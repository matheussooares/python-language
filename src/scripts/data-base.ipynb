{
 "cells": [
  {
   "cell_type": "markdown",
   "metadata": {},
   "source": [
    "# Banco de dados"
   ]
  },
  {
   "cell_type": "code",
   "execution_count": 1,
   "metadata": {},
   "outputs": [
    {
     "name": "stdout",
     "output_type": "stream",
     "text": [
      "<sqlite3.Connection object at 0x000001A9B790EB60>\n"
     ]
    }
   ],
   "source": [
    "import sqlite3\n",
    "conexao = sqlite3.connect(\"banco.sqlite\")\n",
    "print(conexao)"
   ]
  },
  {
   "cell_type": "markdown",
   "metadata": {},
   "source": [
    "## Conexão"
   ]
  },
  {
   "cell_type": "code",
   "execution_count": 2,
   "metadata": {},
   "outputs": [],
   "source": [
    "cursor = conexao.cursor()"
   ]
  },
  {
   "cell_type": "markdown",
   "metadata": {},
   "source": [
    "## Comandos"
   ]
  },
  {
   "cell_type": "markdown",
   "metadata": {},
   "source": [
    "### Criar Tabela"
   ]
  },
  {
   "cell_type": "code",
   "execution_count": 3,
   "metadata": {},
   "outputs": [
    {
     "data": {
      "text/plain": [
       "<sqlite3.Cursor at 0x1a9b7df7640>"
      ]
     },
     "execution_count": 3,
     "metadata": {},
     "output_type": "execute_result"
    }
   ],
   "source": [
    "cursor.execute('CREATE TABLE Cliente (id INTEGER PRIMARY KEY AUTOINCREMENT, none VARCHAR(100), email VARCHAR(150))')"
   ]
  },
  {
   "cell_type": "markdown",
   "metadata": {},
   "source": [
    "### Inserir"
   ]
  },
  {
   "cell_type": "code",
   "execution_count": 4,
   "metadata": {},
   "outputs": [],
   "source": [
    "data = (\"guilherme\",\"gui@gmail.com\")\n",
    "cursor.execute('INSERT INTO Cliente (none,email) VALUES (?,?)',data)\n",
    "conexao.commit()"
   ]
  },
  {
   "cell_type": "markdown",
   "metadata": {},
   "source": [
    "### Atualizar"
   ]
  },
  {
   "cell_type": "code",
   "execution_count": 5,
   "metadata": {},
   "outputs": [],
   "source": [
    "data = ('Guilherme carvalho', 'guilherme@gmail.com', 1)\n",
    "cursor.execute('UPDATE Cliente SET none=?,email=? WHERE id=?', data)\n",
    "conexao.commit()"
   ]
  },
  {
   "cell_type": "markdown",
   "metadata": {},
   "source": [
    "### Deletar"
   ]
  },
  {
   "cell_type": "code",
   "execution_count": 6,
   "metadata": {},
   "outputs": [],
   "source": [
    "data = (1,)\n",
    "cursor.execute('DELETE FROM Cliente WHERE id=?', data)\n",
    "conexao.commit()"
   ]
  },
  {
   "cell_type": "markdown",
   "metadata": {},
   "source": [
    "### Inserir em Lote"
   ]
  },
  {
   "cell_type": "code",
   "execution_count": 7,
   "metadata": {},
   "outputs": [],
   "source": [
    "data = [(\"guilherme\",\"gui@gmail.com\"),\n",
    "        (\"thiago\",\"thiago@gmail.com\"),\n",
    "        (\"karla\",\"karla@gmail.com\")\n",
    "        ]\n",
    "cursor.executemany('INSERT INTO Cliente (none,email) VALUES (?,?)',data)\n",
    "conexao.commit()"
   ]
  },
  {
   "cell_type": "markdown",
   "metadata": {},
   "source": [
    "## Consultas"
   ]
  },
  {
   "cell_type": "markdown",
   "metadata": {},
   "source": [
    "### Um resultado"
   ]
  },
  {
   "cell_type": "code",
   "execution_count": 8,
   "metadata": {},
   "outputs": [
    {
     "name": "stdout",
     "output_type": "stream",
     "text": [
      "None\n"
     ]
    }
   ],
   "source": [
    "data = (1,)\n",
    "cursor.execute('SELECT * FROM Cliente WHERE id=?',data)\n",
    "retorno = cursor.fetchone()\n",
    "print(retorno)"
   ]
  },
  {
   "cell_type": "markdown",
   "metadata": {},
   "source": [
    "### Multiplos resultados"
   ]
  },
  {
   "cell_type": "code",
   "execution_count": 10,
   "metadata": {},
   "outputs": [
    {
     "name": "stdout",
     "output_type": "stream",
     "text": [
      "(2, 'guilherme', 'gui@gmail.com')\n",
      "(4, 'karla', 'karla@gmail.com')\n",
      "(3, 'thiago', 'thiago@gmail.com')\n"
     ]
    }
   ],
   "source": [
    "retorno = cursor.execute('SELECT * FROM Cliente ORDER BY none;')\n",
    "\n",
    "for ind in retorno:\n",
    "    print(ind)"
   ]
  },
  {
   "cell_type": "markdown",
   "metadata": {},
   "source": [
    "### row_factory"
   ]
  },
  {
   "cell_type": "code",
   "execution_count": 13,
   "metadata": {},
   "outputs": [
    {
     "name": "stdout",
     "output_type": "stream",
     "text": [
      "{'id': 2, 'none': 'guilherme', 'email': 'gui@gmail.com'}\n",
      "{'id': 4, 'none': 'karla', 'email': 'karla@gmail.com'}\n",
      "{'id': 3, 'none': 'thiago', 'email': 'thiago@gmail.com'}\n"
     ]
    }
   ],
   "source": [
    "cursor.row_factory = sqlite3.Row\n",
    "retorno = cursor.execute('SELECT * FROM Cliente ORDER BY none;')\n",
    "for ind in retorno:\n",
    "    print(dict(ind))"
   ]
  },
  {
   "cell_type": "markdown",
   "metadata": {},
   "source": [
    "## Boas práticas"
   ]
  },
  {
   "cell_type": "markdown",
   "metadata": {},
   "source": [
    "Para evitar o vazamento de dados é importante não concatenar os comandos SQL usando str, e sim usando os comando da própria biblioteca de SQL ````DB API````."
   ]
  },
  {
   "cell_type": "markdown",
   "metadata": {},
   "source": []
  },
  {
   "cell_type": "markdown",
   "metadata": {},
   "source": [
    "### Gerenciamento de Transações"
   ]
  },
  {
   "cell_type": "markdown",
   "metadata": {},
   "source": [
    "Quando temos várias operações e uma delas acorre um erro, é necessário cancelar todas as transações, nesse caso usa-se a função ````rollback````"
   ]
  },
  {
   "cell_type": "code",
   "execution_count": 15,
   "metadata": {},
   "outputs": [
    {
     "name": "stdout",
     "output_type": "stream",
     "text": [
      "erro ocorreu 2 values for 3 columns\n"
     ]
    }
   ],
   "source": [
    "cursor.row_factory = sqlite3.Row\n",
    "try:\n",
    "    cursor.execute('INSERT INTO Cliente(none, email) VALUES (?,?)',('teste_1','teste_1@gmail.com'))\n",
    "    cursor.execute('INSERT INTO Cliente(id, none, email) VALUES (?,?)',(2,'teste_2','teste_2@gmail.com'))\n",
    "except Exception as exc:\n",
    "    print(f\"erro ocorreu {exc}\")\n",
    "    conexao.rollback()\n",
    "finally:\n",
    "    conexao.commit()"
   ]
  },
  {
   "cell_type": "code",
   "execution_count": 14,
   "metadata": {},
   "outputs": [
    {
     "name": "stdout",
     "output_type": "stream",
     "text": [
      "erro ocorreu 2 values for 3 columns\n"
     ]
    }
   ],
   "source": [
    "try:\n",
    "    cursor.execute('INSERT INTO Cliente(none, email) VALUES (?,?)',('teste_1','teste_1@gmail.com'))\n",
    "    cursor.execute('INSERT INTO Cliente(id, none, email) VALUES (?,?)',(2,'teste_2','teste_2@gmail.com'))\n",
    "    conexao.commit()\n",
    "except Exception as exc:\n",
    "    print(f\"erro ocorreu {exc}\")\n",
    "    conexao.rollback()\n"
   ]
  }
 ],
 "metadata": {
  "kernelspec": {
   "display_name": "Python 3",
   "language": "python",
   "name": "python3"
  },
  "language_info": {
   "codemirror_mode": {
    "name": "ipython",
    "version": 3
   },
   "file_extension": ".py",
   "mimetype": "text/x-python",
   "name": "python",
   "nbconvert_exporter": "python",
   "pygments_lexer": "ipython3",
   "version": "3.11.7"
  }
 },
 "nbformat": 4,
 "nbformat_minor": 2
}
