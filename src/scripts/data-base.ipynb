{
 "cells": [
  {
   "cell_type": "markdown",
   "metadata": {},
   "source": [
    "# Banco de dados"
   ]
  },
  {
   "cell_type": "code",
   "execution_count": 1,
   "metadata": {},
   "outputs": [
    {
     "name": "stdout",
     "output_type": "stream",
     "text": [
      "<sqlite3.Connection object at 0x0000020F5D2648B0>\n"
     ]
    }
   ],
   "source": [
    "import sqlite3\n",
    "conexao = sqlite3.connect(\"banco.sqlite\")\n",
    "print(conexao)"
   ]
  },
  {
   "cell_type": "markdown",
   "metadata": {},
   "source": [
    "## Conexão"
   ]
  },
  {
   "cell_type": "code",
   "execution_count": 2,
   "metadata": {},
   "outputs": [],
   "source": [
    "cursor = conexao.cursor()"
   ]
  },
  {
   "cell_type": "markdown",
   "metadata": {},
   "source": [
    "## Comandos"
   ]
  },
  {
   "cell_type": "markdown",
   "metadata": {},
   "source": [
    "### Criar Tabela"
   ]
  },
  {
   "cell_type": "code",
   "execution_count": 3,
   "metadata": {},
   "outputs": [
    {
     "data": {
      "text/plain": [
       "<sqlite3.Cursor at 0x20f5d29a840>"
      ]
     },
     "execution_count": 3,
     "metadata": {},
     "output_type": "execute_result"
    }
   ],
   "source": [
    "cursor.execute('CREATE TABLE Cliente (id INTEGER PRIMARY KEY AUTOINCREMENT, none VARCHAR(100), email VARCHAR(150))')"
   ]
  },
  {
   "cell_type": "markdown",
   "metadata": {},
   "source": [
    "### Inserir"
   ]
  },
  {
   "cell_type": "code",
   "execution_count": 7,
   "metadata": {},
   "outputs": [],
   "source": [
    "data = (\"guilherme\",\"gui@gmail.com\")\n",
    "cursor.execute('INSERT INTO Cliente (none,email) VALUES (?,?)',data)\n",
    "conexao.commit()"
   ]
  },
  {
   "cell_type": "markdown",
   "metadata": {},
   "source": [
    "### Atualizar"
   ]
  },
  {
   "cell_type": "code",
   "execution_count": 9,
   "metadata": {},
   "outputs": [],
   "source": [
    "data = ('Guilherme carvalho', 'guilherme@gmail.com', 1)\n",
    "cursor.execute('UPDATE Cliente SET none=?,email=? WHERE id=?', data)\n",
    "conexao.commit()"
   ]
  },
  {
   "cell_type": "markdown",
   "metadata": {},
   "source": [
    "### Deletar"
   ]
  },
  {
   "cell_type": "code",
   "execution_count": 10,
   "metadata": {},
   "outputs": [],
   "source": [
    "data = (1,)\n",
    "cursor.execute('DELETE FROM Cliente WHERE id=?', data)\n",
    "conexao.commit()"
   ]
  },
  {
   "cell_type": "markdown",
   "metadata": {},
   "source": [
    "### Inserir em Lote"
   ]
  },
  {
   "cell_type": "code",
   "execution_count": 13,
   "metadata": {},
   "outputs": [],
   "source": [
    "data = [(\"guilherme\",\"gui@gmail.com\"),\n",
    "        (\"thiago\",\"thiago@gmail.com\"),\n",
    "        (\"karla\",\"karla@gmail.com\")\n",
    "        ]\n",
    "cursor.executemany('INSERT INTO Cliente (none,email) VALUES (?,?)',data)\n",
    "conexao.commit()"
   ]
  },
  {
   "cell_type": "markdown",
   "metadata": {},
   "source": [
    "## Consultas"
   ]
  },
  {
   "cell_type": "markdown",
   "metadata": {},
   "source": [
    "### Um resultado"
   ]
  },
  {
   "cell_type": "code",
   "execution_count": 18,
   "metadata": {},
   "outputs": [
    {
     "name": "stdout",
     "output_type": "stream",
     "text": [
      "None\n"
     ]
    }
   ],
   "source": [
    "data = (1,)\n",
    "cursor.execute('SELECT * FROM Cliente WHERE id=?',data)\n",
    "retorno = cursor.fetchone()\n",
    "print(retorno)"
   ]
  },
  {
   "cell_type": "markdown",
   "metadata": {},
   "source": [
    "### Multiplos resultados"
   ]
  },
  {
   "cell_type": "code",
   "execution_count": 22,
   "metadata": {},
   "outputs": [
    {
     "name": "stdout",
     "output_type": "stream",
     "text": [
      "(2, 'guilherme', 'gui@gmail.com')\n",
      "(3, 'thiago', 'thiago@gmail.com')\n",
      "(4, 'karla', 'karla@gmail.com')\n",
      "(5, 'guilherme', 'gui@gmail.com')\n",
      "(6, 'thiago', 'thiago@gmail.com')\n",
      "(7, 'karla', 'karla@gmail.com')\n"
     ]
    }
   ],
   "source": [
    "retorno = cursor.execute('SELECT * FROM Cliente;')\n",
    "\n",
    "for ind in retorno:\n",
    "    print(ind)"
   ]
  }
 ],
 "metadata": {
  "kernelspec": {
   "display_name": "Python 3",
   "language": "python",
   "name": "python3"
  },
  "language_info": {
   "codemirror_mode": {
    "name": "ipython",
    "version": 3
   },
   "file_extension": ".py",
   "mimetype": "text/x-python",
   "name": "python",
   "nbconvert_exporter": "python",
   "pygments_lexer": "ipython3",
   "version": "3.11.7"
  }
 },
 "nbformat": 4,
 "nbformat_minor": 2
}
