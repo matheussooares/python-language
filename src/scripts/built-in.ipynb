{
  "cells": [
    {
      "cell_type": "markdown",
      "metadata": {
        "id": "uOy0CbXC-3ha"
      },
      "source": [
        "# Python 🐍"
      ]
    },
    {
      "cell_type": "markdown",
      "metadata": {
        "id": "odewBVJwFP0u"
      },
      "source": [
        "## Linguagem de alto nível"
      ]
    },
    {
      "cell_type": "markdown",
      "metadata": {},
      "source": [
        "Python é uma linguagem de programação interpretada, orientada a objetos, de alto nível e com semântica dinâmica. A simplicidade do Python reduz a manutenção de um programa. Python suporta módulos e pacotes, que encoraja a programação modularizada e reuso de códigos. É uma das linguagens que mais tem crescido devido sua compatibilidade (roda na maioria dos sistemas operacionais) e capacidade de auxiliar outras linguagens. Programas como Dropbox, Reddit e Instagram são escritos em Python. Assim é a linguagem mais popular para análise de dados e conquistou a comunidade científica.\n",
        "1) Python é uma linguagem de programação de alto nível, com suporte a múltiplos paradigmas de programação\n",
        "2) Python é um projeto open source\n",
        "3) Python é uma linguagem de programação interpretada\n",
        "\n",
        "(Fonte: Alura)"
      ]
    },
    {
      "cell_type": "markdown",
      "metadata": {},
      "source": [
        "Python é uma linguagem muito versátil:\n",
        "- Tipagem dinâmica e forte.\n",
        "- Multiplataforma e multiparadigma.\n",
        "- Comunidade gigante e ativa.\n",
        "- Curva de aprendizado baixa.\n",
        "\n",
        "(Fonte: DIO)"
      ]
    },
    {
      "cell_type": "markdown",
      "metadata": {
        "id": "Jys5FPkjjw2y"
      },
      "source": [
        "### Versão do Python"
      ]
    },
    {
      "cell_type": "markdown",
      "metadata": {},
      "source": [
        "Para saber a versão do python instalado na máquina, basta usar o comando\n",
        "````\n",
        "!python -v\n",
        "````\n",
        "````\n",
        "python -V\n",
        "````\n",
        "````\n",
        "python3 -V\n",
        "````\n"
      ]
    },
    {
      "cell_type": "code",
      "execution_count": 1,
      "metadata": {
        "colab": {
          "background_save": true,
          "base_uri": "https://localhost:8080/"
        },
        "id": "QqmX3oLFPLPP",
        "outputId": "f9d14506-5752-419d-8d89-674ff7378389"
      },
      "outputs": [],
      "source": [
        "!python -v"
      ]
    },
    {
      "cell_type": "markdown",
      "metadata": {
        "id": "n-3Itc2YFwKl"
      },
      "source": [
        "### História do Python"
      ]
    },
    {
      "cell_type": "markdown",
      "metadata": {
        "id": "kJJXGaPuFllX"
      },
      "source": [
        "Python foi criada em 1990 por Guido Van Rossum no Centro de Matemática Stichting na Holanda como uma sucessora da linguagem ABC. Guido é lembrado como o principal autor de Python mas outros programadores ajudaram com muitas contribuições.\n",
        "\n",
        "A linguagem ABC foi desenhada para uso de não programadores, mas logo de início mostrou certas limitações e restrições. A maior reclamação dos primeiros alunos não programadores dessa linguagem era a presença de regras arbitrárias que as linguagens de programação haviam estabelecido tradicionalmente - muita coisa de baixo nível ainda era feita e não agradou o público.\n",
        "\n",
        "Guido então se lançou na tarefa de criar uma linguagem de script simples que possuísse algumas das melhores propriedades da ABC. Listas Python, dicionários, declarações básicas e uso obrigatório de indentação - conceitos que aprenderemos neste curso - diferenciam Python da linguagem ABC.\n",
        "\n",
        "Você provavelmente já ouviu ou leu em algum lugar que Python é uma linguagem interpretada ou uma linguagem de script. Em certo sentido, também é verdade que Python é tanto uma linguagem interpretada quanto uma linguagem compilada. Um compilador traduz linguagem Python em linguagem de máquina - código Python é traduzido em um código intermediário que deve ser executado por uma máquina virtual conhecida como PVM (Python Virtual Machine).\n",
        "\n",
        "O interpretador faz esta 'tradução' em tempo real para código de máquina, ou seja, em tempo de execução. Já o compilador traduz o programa inteiro em código de máquina de uma só vez e então o executa, criando um arquivo que pode ser rodado (executável). O compilador gera um relatório de erros (casos eles existam) e o interpretador interrompe a tradução quando encontra um primeiro erro.\n",
        "\n",
        "(Fonte: Alura)"
      ]
    },
    {
      "cell_type": "markdown",
      "metadata": {},
      "source": [
        "Python nasceu em 1989 como um hobby, do programador Guido Van Rossum. A ideia inicial era dar continuidade a linguagem ABC, que era desenvolvida no Centro de Pesquisa Holandês (CWI).\n",
        "\n",
        "Os objetivos de Van Rossum para a linguagem Python eram:\n",
        "- Uma linguagem fácil e intuitiva.\n",
        "- Código aberto, para que todos possam contribuir.\n",
        "- Código tão inteligível quanto Inglês.\n",
        "- Adequada para tarefas diárias, e produtiva!\n",
        "\n",
        "\n",
        "(Fonte: DIO)"
      ]
    },
    {
      "cell_type": "markdown",
      "metadata": {},
      "source": [
        "## Operadores aritméticos"
      ]
    },
    {
      "cell_type": "markdown",
      "metadata": {},
      "source": [
        "Os operadores aritméticos executam operações matemáticas, como adição, subtração com operandos.\n",
        "\n",
        "\n",
        "(Fonte: DIO)"
      ]
    },
    {
      "cell_type": "code",
      "execution_count": 1,
      "metadata": {},
      "outputs": [],
      "source": [
        "soma = 1 + 1\n",
        "subtracao = 1 - 1\n",
        "multiplicacao = 4 * 3\n",
        "divisao = 12/2\n",
        "divisao_inteira = 13//2\n",
        "modulo = 10%3\n",
        "exponencial = 2 ** 3\n"
      ]
    },
    {
      "cell_type": "markdown",
      "metadata": {},
      "source": [
        "### Precedência"
      ]
    },
    {
      "cell_type": "markdown",
      "metadata": {},
      "source": [
        "A definição indica a seguinte ordem como a correta:\n",
        "- Parêntesis\n",
        "- Expoêntes\n",
        "- Multiplicações e divisões (da esquerda para a direita)\n",
        "- Somas e subtrações (da esquerda para a direita)\n"
      ]
    },
    {
      "cell_type": "markdown",
      "metadata": {},
      "source": [
        "### Comparação"
      ]
    },
    {
      "cell_type": "markdown",
      "metadata": {},
      "source": [
        "Usado para comparar valores."
      ]
    },
    {
      "cell_type": "code",
      "execution_count": null,
      "metadata": {},
      "outputs": [],
      "source": [
        "iguadade = 100 == 10\n",
        "diferenca = 10 !=20\n",
        "maiorque = 10>= 50\n",
        "menorque = 10<= 5"
      ]
    },
    {
      "cell_type": "markdown",
      "metadata": {},
      "source": [
        "### Atribuição"
      ]
    },
    {
      "cell_type": "markdown",
      "metadata": {},
      "source": [
        "O comando básico é dado por:\n",
        "````\n",
        "    variavel = 10\n",
        "````\n",
        "Mas existem alguns atalhos."
      ]
    },
    {
      "cell_type": "code",
      "execution_count": null,
      "metadata": {},
      "outputs": [],
      "source": [
        "variavel = 10\n",
        "# Adição\n",
        "variavel +=1\n",
        "# Diferença \n",
        "variavel -=1\n",
        "# Multiplicação\n",
        "variavel *=10\n",
        "# Divisão\n",
        "variavel /=2\n",
        "# Divisão inteira\n",
        "variavel //=3\n",
        "# Módulo\n",
        "variavel %=5\n",
        "# Exponencial\n",
        "variavel **=3"
      ]
    },
    {
      "cell_type": "markdown",
      "metadata": {},
      "source": [
        "### Lógicos"
      ]
    },
    {
      "cell_type": "markdown",
      "metadata": {},
      "source": [
        "São operadores utilizados em conjunto com os operadores de comparação, para montar uma expressão lógica. Quando um operador de comparação é utilizado, o resultado retornado é um booleano, dessa forma podemos combinar operadores de comparação com os operadores lógicos, exemplo:\n",
        "op_comparacao + op_logico + op_comparacao… N …\n",
        "\n",
        "(Fonte: DIO)"
      ]
    },
    {
      "cell_type": "code",
      "execution_count": null,
      "metadata": {},
      "outputs": [],
      "source": [
        "saldo = 1000\n",
        "saque = 200\n",
        "limite = 100"
      ]
    },
    {
      "cell_type": "code",
      "execution_count": null,
      "metadata": {},
      "outputs": [],
      "source": [
        "# E\n",
        "(saldo>=saque) and (saque <= limite)\n",
        "# OU\n",
        "(saldo>=saque) or (saque <= limite)\n",
        "# Negação\n",
        "not saldo>=saque"
      ]
    },
    {
      "cell_type": "markdown",
      "metadata": {},
      "source": [
        "### Associação"
      ]
    },
    {
      "cell_type": "markdown",
      "metadata": {},
      "source": [
        "São operadores utilizados para verificar se um objeto está presente em uma sequência .\n",
        "\n",
        "(Fonte: DIO)"
      ]
    },
    {
      "cell_type": "code",
      "execution_count": null,
      "metadata": {},
      "outputs": [],
      "source": [
        "curso = \"Curso python\"\n",
        "frutas = [\"laranja\",\"banana\"]"
      ]
    },
    {
      "cell_type": "code",
      "execution_count": null,
      "metadata": {},
      "outputs": [],
      "source": [
        "\"python\" in curso"
      ]
    },
    {
      "cell_type": "markdown",
      "metadata": {},
      "source": [
        "### Identidade"
      ]
    },
    {
      "cell_type": "markdown",
      "metadata": {},
      "source": [
        "São operadores utilizados para comparar se os dois objetos testados ocupam a mesma posição na memória.\n",
        "\n",
        "(Fonte: DIO)"
      ]
    },
    {
      "cell_type": "code",
      "execution_count": null,
      "metadata": {},
      "outputs": [],
      "source": [
        "curso = \"Curso python\"\n",
        "nome_cursos = curso\n",
        "frutas = [\"laranja\",\"banana\"]\n"
      ]
    },
    {
      "cell_type": "code",
      "execution_count": null,
      "metadata": {},
      "outputs": [],
      "source": [
        "curso is nome_cursos"
      ]
    },
    {
      "cell_type": "code",
      "execution_count": null,
      "metadata": {},
      "outputs": [],
      "source": [
        "curso is not nome_cursos"
      ]
    },
    {
      "cell_type": "markdown",
      "metadata": {},
      "source": [
        "## Identação"
      ]
    },
    {
      "cell_type": "markdown",
      "metadata": {},
      "source": [
        "Identar código é uma forma de manter o código fonte mais legível e manutenível. Mas em Python ela exerce um segundo papel, através da indentação o interpretador consegue determinar onde um bloco de comando inicia e onde ele termina.\n",
        "\n",
        "As linguagens de programação costumam utilizar caracteres ou palavras reservadas para terminar o início e fim do bloco. Existe uma convenção em Python, que define as boas práticas para escrita de código na linguagem. Nesse documento é indicado utilizar 4 espaços em branco por nível de indentação, ou seja, a cada novo bloco adicionamos 4 novos espaços em branco.\n",
        "````\n",
        "    def funçao():\n",
        "        #identação\n",
        "````\n",
        "(Fonte: DIO)"
      ]
    },
    {
      "cell_type": "markdown",
      "metadata": {},
      "source": [
        "## Estrutura de condicionais e de repetição"
      ]
    },
    {
      "cell_type": "markdown",
      "metadata": {},
      "source": [
        "### if/else/elif"
      ]
    },
    {
      "cell_type": "markdown",
      "metadata": {},
      "source": [
        "A estrutura condicional permite o desvio de fluxo de controle, quando determinadas expressões lógicas são atendidas.\n",
        "\n",
        "(Fonte: DIO)"
      ]
    },
    {
      "cell_type": "code",
      "execution_count": null,
      "metadata": {},
      "outputs": [],
      "source": [
        "a = 10\n",
        "b = 200"
      ]
    },
    {
      "cell_type": "code",
      "execution_count": null,
      "metadata": {},
      "outputs": [],
      "source": [
        "if a<b:\n",
        "    print(f\"{b} é maior que {a}\")\n",
        "elif a == b:\n",
        "    print(f\"{a} é igua a {b}\")\n",
        "else:\n",
        "    print(f\"{a} é maior que {b}\")"
      ]
    },
    {
      "cell_type": "markdown",
      "metadata": {},
      "source": [
        "### for/while"
      ]
    },
    {
      "cell_type": "markdown",
      "metadata": {},
      "source": [
        "As estruturas de repetição são utilizadas para repetir um trecho de código um determinado número de vezes. Esse número pode ser conhecido previamente ou determinado através de uma expressão lógica.\n",
        "\n",
        "(Fonte: DIO)\n"
      ]
    },
    {
      "cell_type": "markdown",
      "metadata": {},
      "source": [
        "#### For"
      ]
    },
    {
      "cell_type": "markdown",
      "metadata": {},
      "source": [
        "O comando for é usado para percorrer um objeto iterável. Faz sentido usar for quando sabemos o número exato de vezes que nosso bloco de código deve ser executado, ou quando queremos percorrer um objeto iterável.\n",
        "\n",
        "(Fonte: DIO)"
      ]
    },
    {
      "cell_type": "code",
      "execution_count": 2,
      "metadata": {},
      "outputs": [
        {
          "name": "stdout",
          "output_type": "stream",
          "text": [
            "Número é nulo\n"
          ]
        }
      ],
      "source": [
        "num = int(input(\"numero diferente de zero:\"))\n",
        "\n",
        "for i in range(1,num+1):\n",
        "    print(f\"Número: {i}\")\n",
        "else:\n",
        "    print(\"Número é nulo\")\n"
      ]
    },
    {
      "cell_type": "markdown",
      "metadata": {},
      "source": [
        "Range é uma função built-in do Python, ela é usada para produzir uma sequência de números inteiros a partir de um ínicio (inclusivo) para um fim (exclusivo). Se usarmos range(i, j) será produzido: \n",
        "i, i+1, i+2, i+3, ..., j-1.\n",
        "Ela recebe 3 argumentos: stop (obrigatório), start (opcional) e step opcional.\n",
        "\n",
        "(Fonte: DIO)"
      ]
    },
    {
      "cell_type": "markdown",
      "metadata": {},
      "source": [
        "#### While"
      ]
    },
    {
      "cell_type": "markdown",
      "metadata": {},
      "source": [
        "O comando while é usado para repetir um bloco de código várias vezes. Faz sentido usar while quando não sabemos o número exato de vezes que nosso bloco de código deve ser executado.\n",
        "\n",
        "(Fonte: DIO)"
      ]
    },
    {
      "cell_type": "code",
      "execution_count": 3,
      "metadata": {},
      "outputs": [
        {
          "name": "stdout",
          "output_type": "stream",
          "text": [
            "Número é nulo\n"
          ]
        }
      ],
      "source": [
        "num = 1\n",
        "\n",
        "while num != 0:\n",
        "    num = int(input(\"Digite um número: \"))\n",
        "else:\n",
        "    print(\"Número é nulo\")"
      ]
    },
    {
      "cell_type": "markdown",
      "metadata": {
        "id": "e8Kl0XAlivJv"
      },
      "source": [
        "## Built-in funcition"
      ]
    },
    {
      "cell_type": "markdown",
      "metadata": {
        "id": "_GGrUSMIi-hS"
      },
      "source": [
        "As funções nativas do Python (built-in functions), ou seja, funções integradas da linguagem que estão sempre acessíveis, sem a necessidade de criação ou importação."
      ]
    },
    {
      "cell_type": "code",
      "execution_count": null,
      "metadata": {
        "colab": {
          "base_uri": "https://localhost:8080/"
        },
        "id": "4KQb8TmAjaDD",
        "outputId": "fd18c6b0-2ae5-4591-da4c-ee7f164d2e73"
      },
      "outputs": [
        {
          "name": "stdout",
          "output_type": "stream",
          "text": [
            "Help on built-in function print in module builtins:\n",
            "\n",
            "print(...)\n",
            "    print(value, ..., sep=' ', end='\\n', file=sys.stdout, flush=False)\n",
            "    \n",
            "    Prints the values to a stream, or to sys.stdout by default.\n",
            "    Optional keyword arguments:\n",
            "    file:  a file-like object (stream); defaults to the current sys.stdout.\n",
            "    sep:   string inserted between values, default a space.\n",
            "    end:   string appended after the last value, default a newline.\n",
            "    flush: whether to forcibly flush the stream.\n",
            "\n"
          ]
        }
      ],
      "source": [
        "help(print)"
      ]
    }
  ],
  "metadata": {
    "colab": {
      "provenance": []
    },
    "kernelspec": {
      "display_name": "Python 3",
      "name": "python3"
    },
    "language_info": {
      "codemirror_mode": {
        "name": "ipython",
        "version": 3
      },
      "file_extension": ".py",
      "mimetype": "text/x-python",
      "name": "python",
      "nbconvert_exporter": "python",
      "pygments_lexer": "ipython3",
      "version": "3.11.7"
    }
  },
  "nbformat": 4,
  "nbformat_minor": 0
}
