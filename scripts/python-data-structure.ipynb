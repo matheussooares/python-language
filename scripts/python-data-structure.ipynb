{
  "cells": [
    {
      "cell_type": "markdown",
      "metadata": {
        "id": "uOy0CbXC-3ha"
      },
      "source": [
        "# Estrutura de dados em Python 🐍"
      ]
    },
    {
      "cell_type": "markdown",
      "metadata": {},
      "source": [
        "Em Python, uma estrutura de dados é uma maneira de organizar e armazenar dados de uma forma que possa ser acessada e manipulada de maneira eficiente. Existem várias estruturas de dados em Python, cada uma com suas próprias características e usos específicos. Algumas das estruturas de dados padrões em Python incluem:\n",
        "\n",
        "1. **Listas (list)**: Uma lista é uma coleção ordenada de elementos que podem ser de diferentes tipos de dados. Os elementos em uma lista são acessados por meio de índices (posições), e a lista pode ser modificada adicionando, removendo ou alterando elementos.\n",
        "2. **Tuplas (tuple)**: Uma tupla é semelhante a uma lista, mas é imutável, o que significa que seus elementos não podem ser alterados após a criação da tupla. As tuplas são geralmente usadas para representar coleções de dados heterogêneos e são acessadas por meio de índices.\n",
        "3. **Dicionários (dict)**: Um dicionário é uma coleção não ordenada de pares chave-valor, onde cada chave é única e mapeada para um valor correspondente. Os valores em um dicionário são acessados por meio de suas chaves, e os dicionários são úteis para armazenar e recuperar dados de forma eficiente.\n",
        "4. **Conjuntos (set):** Um conjunto é uma coleção não ordenada de elementos únicos e imutáveis. Os conjuntos são usados principalmente para realizar operações de conjunto, como união, interseção e diferença, e são úteis para remover duplicatas de outras coleções."
      ]
    },
    {
      "cell_type": "markdown",
      "metadata": {
        "id": "XqrSUIOKCw5A"
      },
      "source": [
        "## Listas"
      ]
    },
    {
      "cell_type": "markdown",
      "metadata": {
        "id": "8HOXCo3ZGTok"
      },
      "source": [
        "Um conjunto de parâmetros consiste em uma lista com nenhum ou mais elementos. Porém é possível uma lista com um único parâmetro. As listas armazenam tipos diferentes de dadas.\n",
        "\n",
        "(Fonte: Alura)\n"
      ]
    },
    {
      "cell_type": "markdown",
      "metadata": {},
      "source": [
        "Listas em Python podem armazenar de maneira sequencial qualquer tipo de objeto. Podemos criar listas utilizando o construtor list, a função range ou colocando valores separados por vírgula dentro de colchetes. Listas são objetos mutáveis, portanto podemos alterar seus valores após a criação.\n",
        "\n",
        "(Fonte: DIO)"
      ]
    },
    {
      "cell_type": "code",
      "execution_count": null,
      "metadata": {
        "colab": {
          "base_uri": "https://localhost:8080/"
        },
        "id": "AKCHsgpBCx65",
        "outputId": "25998324-9784-46a7-d683-a418b13498b6"
      },
      "outputs": [
        {
          "data": {
            "text/plain": [
              "list"
            ]
          },
          "execution_count": 11,
          "metadata": {},
          "output_type": "execute_result"
        }
      ],
      "source": [
        "lista = [12 , 33, 40]\n",
        "type(lista)"
      ]
    },
    {
      "cell_type": "code",
      "execution_count": null,
      "metadata": {},
      "outputs": [],
      "source": [
        "lista = list([\"laranja\",\"Pera\",\"Uva\"])"
      ]
    },
    {
      "cell_type": "markdown",
      "metadata": {},
      "source": [
        "A lista é uma sequência, portanto podemos **acessar** seus dados utilizando **índices**. Contamos o índice de determinada sequência a partir do zero. Sequências suportam indexação negativa. A contagem começa em -1.\n",
        "\n",
        "(Fonte: DIO)"
      ]
    },
    {
      "cell_type": "code",
      "execution_count": null,
      "metadata": {
        "colab": {
          "base_uri": "https://localhost:8080/"
        },
        "id": "S22pJqntC5S5",
        "outputId": "6e6502ab-316e-460c-daa1-2101513e7f7f"
      },
      "outputs": [
        {
          "data": {
            "text/plain": [
              "'Uva'"
            ]
          },
          "execution_count": 13,
          "metadata": {},
          "output_type": "execute_result"
        }
      ],
      "source": [
        "lista[2]"
      ]
    },
    {
      "cell_type": "code",
      "execution_count": null,
      "metadata": {
        "colab": {
          "base_uri": "https://localhost:8080/"
        },
        "id": "NR2SH7d8DEbD",
        "outputId": "a92b4c00-68b0-47ef-cd55-b8539c4c75fd"
      },
      "outputs": [
        {
          "data": {
            "text/plain": [
              "'Uva'"
            ]
          },
          "execution_count": 14,
          "metadata": {},
          "output_type": "execute_result"
        }
      ],
      "source": [
        "lista[-1]"
      ]
    },
    {
      "cell_type": "markdown",
      "metadata": {},
      "source": [
        "Listas podem armazenar todos os tipos de objetos Python, portanto podemos ter listas que armazenam outras listas. Com isso podemos criar estruturas bidimensionais (tabelas), e acessar informando os índices de linha e coluna. "
      ]
    },
    {
      "cell_type": "code",
      "execution_count": null,
      "metadata": {},
      "outputs": [],
      "source": [
        "matriz = [\n",
        "    [1,\"a\",2],\n",
        "    [\"b\",3,4],\n",
        "    [6,5,10]\n",
        "]"
      ]
    },
    {
      "cell_type": "code",
      "execution_count": null,
      "metadata": {},
      "outputs": [
        {
          "data": {
            "text/plain": [
              "1"
            ]
          },
          "execution_count": 4,
          "metadata": {},
          "output_type": "execute_result"
        }
      ],
      "source": [
        "matriz[0][0]"
      ]
    },
    {
      "cell_type": "code",
      "execution_count": null,
      "metadata": {},
      "outputs": [
        {
          "data": {
            "text/plain": [
              "10"
            ]
          },
          "execution_count": 5,
          "metadata": {},
          "output_type": "execute_result"
        }
      ],
      "source": [
        "matriz[-1][-1]"
      ]
    },
    {
      "cell_type": "markdown",
      "metadata": {},
      "source": [
        "### Fatiamento"
      ]
    },
    {
      "cell_type": "markdown",
      "metadata": {},
      "source": [
        "Além de acessar elementos diretamente, podemos extrair um conjunto de valores de uma sequência. Para isso basta passar o índice inicial e/ou final para acessar o conjunto. Podemos ainda informar quantas posições o cursor deve \"pular\" no acesso.\n",
        "\n",
        "(Fonte: DIO)"
      ]
    },
    {
      "cell_type": "code",
      "execution_count": null,
      "metadata": {},
      "outputs": [],
      "source": [
        "lista = [\"p\",\"y\",\"t\",\"h\",\"o\",\"n\"]"
      ]
    },
    {
      "cell_type": "code",
      "execution_count": null,
      "metadata": {},
      "outputs": [
        {
          "data": {
            "text/plain": [
              "['t', 'h', 'o', 'n']"
            ]
          },
          "execution_count": 2,
          "metadata": {},
          "output_type": "execute_result"
        }
      ],
      "source": [
        "lista[2:]"
      ]
    },
    {
      "cell_type": "code",
      "execution_count": null,
      "metadata": {},
      "outputs": [
        {
          "data": {
            "text/plain": [
              "['p', 't', 'o']"
            ]
          },
          "execution_count": 9,
          "metadata": {},
          "output_type": "execute_result"
        }
      ],
      "source": [
        "lista[0:6:2]#[inicio:fim:fataimento]"
      ]
    },
    {
      "cell_type": "code",
      "execution_count": null,
      "metadata": {},
      "outputs": [
        {
          "data": {
            "text/plain": [
              "['n', 'o', 'h', 't', 'y', 'p']"
            ]
          },
          "execution_count": 10,
          "metadata": {},
          "output_type": "execute_result"
        }
      ],
      "source": [
        "lista[::-1]"
      ]
    },
    {
      "cell_type": "markdown",
      "metadata": {
        "id": "v6TkMrbYDoUE"
      },
      "source": [
        "### Laços e loops em listas"
      ]
    },
    {
      "cell_type": "markdown",
      "metadata": {},
      "source": [
        "A forma mais comum para percorrer os dados de uma lista é utilizando o comando for.\n",
        "\n",
        "(Fonte: DIO)"
      ]
    },
    {
      "cell_type": "code",
      "execution_count": null,
      "metadata": {
        "id": "ZAOJh8qWDqW3"
      },
      "outputs": [],
      "source": [
        "lista = [5,8,9,10,20,33,40,51]\n",
        "\n",
        "menor,maior = [], []\n",
        "# Para cada elemento na lista\n",
        "for elemento in lista:\n",
        "  if elemento >= 18:\n",
        "    maior.append(elemento)\n",
        "  else:\n",
        "    menor.append(elemento)"
      ]
    },
    {
      "cell_type": "code",
      "execution_count": null,
      "metadata": {
        "colab": {
          "base_uri": "https://localhost:8080/"
        },
        "id": "ckE07eNDD4Vk",
        "outputId": "e3db064c-b473-47bd-fd12-6e60029b03fe"
      },
      "outputs": [
        {
          "name": "stdout",
          "output_type": "stream",
          "text": [
            "lista de menor: [5, 8, 9, 10]\n",
            "lista de maior: [20, 33, 40, 51]\n"
          ]
        }
      ],
      "source": [
        "print(f\"lista de menor: {menor}\")\n",
        "print(f\"lista de maior: {maior}\")"
      ]
    },
    {
      "cell_type": "markdown",
      "metadata": {},
      "source": [
        "Às vezes é necessário saber qual o **índice do objeto** dentro do laço for. Para isso podemos usar a **função enumerate**.\n",
        "\n",
        "(Fonte: DIO)"
      ]
    },
    {
      "cell_type": "code",
      "execution_count": null,
      "metadata": {},
      "outputs": [
        {
          "name": "stdout",
          "output_type": "stream",
          "text": [
            "Fruta 0: laranja\n",
            "Fruta 1: Pera\n",
            "Fruta 2: Uva\n"
          ]
        }
      ],
      "source": [
        "lista = list([\"laranja\",\"Pera\",\"Uva\"])\n",
        "\n",
        "for indice,fruta in enumerate(lista):\n",
        "    print(f\"Fruta {indice}: {fruta}\")"
      ]
    },
    {
      "cell_type": "markdown",
      "metadata": {},
      "source": [
        "#### Compreensão de listas"
      ]
    },
    {
      "cell_type": "markdown",
      "metadata": {},
      "source": [
        "A compreensão de lista oferece uma sintaxe mais curta quando você deseja: criar uma nova lista com base nos valores de uma lista existente (filtro) ou gerar uma nova lista aplicando alguma modificação nos elementos de uma lista existente.\n",
        "\n",
        "(Fonte: DIO)"
      ]
    },
    {
      "cell_type": "code",
      "execution_count": null,
      "metadata": {},
      "outputs": [
        {
          "name": "stdout",
          "output_type": "stream",
          "text": [
            "Números pares: [8, 10, 20, 40]\n"
          ]
        }
      ],
      "source": [
        "lista = [5,8,9,10,20,33,40,51]\n",
        "# Pega os numeros da lista se eles forem par\n",
        "pares = [numero for numero in lista if numero % 2 == 0]\n",
        "print(f\"Números pares: {pares}\")"
      ]
    },
    {
      "cell_type": "code",
      "execution_count": null,
      "metadata": {},
      "outputs": [
        {
          "name": "stdout",
          "output_type": "stream",
          "text": [
            "Números ao quadrado: [25, 64, 81, 100, 400, 1089, 1600, 2601]\n"
          ]
        }
      ],
      "source": [
        "lista = [5,8,9,10,20,33,40,51]\n",
        "\n",
        "quadrado = [ numero**2 for numero in lista ]\n",
        "print(f\"Números ao quadrado: {quadrado}\")"
      ]
    },
    {
      "cell_type": "markdown",
      "metadata": {},
      "source": [
        "### Métodos da classe list\n"
      ]
    },
    {
      "cell_type": "markdown",
      "metadata": {},
      "source": [
        "#### Append"
      ]
    },
    {
      "cell_type": "code",
      "execution_count": 29,
      "metadata": {},
      "outputs": [
        {
          "name": "stdout",
          "output_type": "stream",
          "text": [
            "lista: [10, 5, 20, 700]\n"
          ]
        }
      ],
      "source": [
        "lista = [10,5,20]\n",
        "\n",
        "lista.append(int(input(\"Digite um número: \")))\n",
        "\n",
        "print(f\"lista: {lista}\")"
      ]
    },
    {
      "cell_type": "markdown",
      "metadata": {},
      "source": [
        "#### Clear"
      ]
    },
    {
      "cell_type": "code",
      "execution_count": 33,
      "metadata": {},
      "outputs": [
        {
          "name": "stdout",
          "output_type": "stream",
          "text": [
            "[]\n"
          ]
        }
      ],
      "source": [
        "lista = [10,5,20,\"python\"]\n",
        "\n",
        "lista.clear()\n",
        "\n",
        "print(lista)"
      ]
    },
    {
      "cell_type": "markdown",
      "metadata": {},
      "source": [
        "#### Copy"
      ]
    },
    {
      "cell_type": "code",
      "execution_count": 34,
      "metadata": {},
      "outputs": [
        {
          "data": {
            "text/plain": [
              "[10, 5, 20, 'python']"
            ]
          },
          "execution_count": 34,
          "metadata": {},
          "output_type": "execute_result"
        }
      ],
      "source": [
        "lista = [10,5,20,\"python\"]\n",
        "\n",
        "lista.copy()"
      ]
    },
    {
      "cell_type": "markdown",
      "metadata": {},
      "source": [
        "#### Count"
      ]
    },
    {
      "cell_type": "code",
      "execution_count": 36,
      "metadata": {},
      "outputs": [
        {
          "data": {
            "text/plain": [
              "2"
            ]
          },
          "execution_count": 36,
          "metadata": {},
          "output_type": "execute_result"
        }
      ],
      "source": [
        "lista = [10,5,20,\"python\",10]\n",
        "\n",
        "lista.count(10)"
      ]
    },
    {
      "cell_type": "markdown",
      "metadata": {},
      "source": [
        "#### Extend"
      ]
    },
    {
      "cell_type": "code",
      "execution_count": 37,
      "metadata": {},
      "outputs": [
        {
          "data": {
            "text/plain": [
              "[10, 5, 20, 'python', 'texto', 10, 300]"
            ]
          },
          "execution_count": 37,
          "metadata": {},
          "output_type": "execute_result"
        }
      ],
      "source": [
        "lista = [10,5,20,\"python\"]\n",
        "lista.extend([\"texto\",10,300])\n",
        "lista"
      ]
    },
    {
      "cell_type": "markdown",
      "metadata": {},
      "source": [
        "#### Copy"
      ]
    },
    {
      "cell_type": "code",
      "execution_count": 38,
      "metadata": {},
      "outputs": [
        {
          "data": {
            "text/plain": [
              "6"
            ]
          },
          "execution_count": 38,
          "metadata": {},
          "output_type": "execute_result"
        }
      ],
      "source": [
        "lista = [10, 5, 20, 'python', 'texto', 10, 300]\n",
        "lista.index(300)"
      ]
    },
    {
      "cell_type": "markdown",
      "metadata": {},
      "source": [
        "#### Pop"
      ]
    },
    {
      "cell_type": "code",
      "execution_count": 39,
      "metadata": {},
      "outputs": [
        {
          "data": {
            "text/plain": [
              "[10, 5, 20, 'python', 'texto', 10]"
            ]
          },
          "execution_count": 39,
          "metadata": {},
          "output_type": "execute_result"
        }
      ],
      "source": [
        "lista = [10, 5, 20, 'python', 'texto', 10, 300]\n",
        "lista.pop()\n",
        "lista"
      ]
    },
    {
      "cell_type": "markdown",
      "metadata": {},
      "source": [
        "#### Remove"
      ]
    },
    {
      "cell_type": "code",
      "execution_count": 40,
      "metadata": {},
      "outputs": [
        {
          "data": {
            "text/plain": [
              "[5, 20, 'python', 'texto', 10, 300]"
            ]
          },
          "execution_count": 40,
          "metadata": {},
          "output_type": "execute_result"
        }
      ],
      "source": [
        "lista = [10, 5, 20, 'python', 'texto', 10, 300]\n",
        "lista.remove(10)\n",
        "lista"
      ]
    },
    {
      "cell_type": "markdown",
      "metadata": {},
      "source": [
        "#### Reverse"
      ]
    },
    {
      "cell_type": "code",
      "execution_count": 41,
      "metadata": {},
      "outputs": [
        {
          "data": {
            "text/plain": [
              "[300, 10, 'texto', 'python', 20, 5, 10]"
            ]
          },
          "execution_count": 41,
          "metadata": {},
          "output_type": "execute_result"
        }
      ],
      "source": [
        "lista = [10, 5, 20, 'python', 'texto', 10, 300]\n",
        "lista.reverse()\n",
        "lista"
      ]
    },
    {
      "cell_type": "markdown",
      "metadata": {},
      "source": [
        "#### Sort"
      ]
    },
    {
      "cell_type": "code",
      "execution_count": 44,
      "metadata": {},
      "outputs": [
        {
          "data": {
            "text/plain": [
              "['Matlab', 'PHP', 'java', 'python', 'texto']"
            ]
          },
          "execution_count": 44,
          "metadata": {},
          "output_type": "execute_result"
        }
      ],
      "source": [
        "lista = [\"java\",\"python\", \"texto\", \"PHP\", \"Matlab\"]\n",
        "lista.sort()\n",
        "\n",
        "lista"
      ]
    },
    {
      "cell_type": "code",
      "execution_count": 47,
      "metadata": {},
      "outputs": [
        {
          "data": {
            "text/plain": [
              "['texto', 'python', 'java', 'PHP', 'Matlab']"
            ]
          },
          "execution_count": 47,
          "metadata": {},
          "output_type": "execute_result"
        }
      ],
      "source": [
        "# Inverter a ordem alfabética\n",
        "lista = [\"java\",\"python\", \"texto\", \"PHP\", \"Matlab\"]\n",
        "lista.sort(reverse=True)\n",
        "\n",
        "lista"
      ]
    },
    {
      "cell_type": "code",
      "execution_count": 48,
      "metadata": {},
      "outputs": [
        {
          "data": {
            "text/plain": [
              "['PHP', 'java', 'texto', 'python', 'Matlab']"
            ]
          },
          "execution_count": 48,
          "metadata": {},
          "output_type": "execute_result"
        }
      ],
      "source": [
        "# Ordenar por tamanho da palavra menor para maior\n",
        "lista = [\"java\",\"python\", \"texto\", \"PHP\", \"Matlab\"]\n",
        "lista.sort(key=lambda x: len(x))\n",
        "\n",
        "lista"
      ]
    },
    {
      "cell_type": "code",
      "execution_count": 49,
      "metadata": {},
      "outputs": [
        {
          "data": {
            "text/plain": [
              "['python', 'Matlab', 'texto', 'java', 'PHP']"
            ]
          },
          "execution_count": 49,
          "metadata": {},
          "output_type": "execute_result"
        }
      ],
      "source": [
        "# Ordenar por tamanho da palavra maior para menor\n",
        "lista = [\"java\",\"python\", \"texto\", \"PHP\", \"Matlab\"]\n",
        "lista.sort(key=lambda x: len(x),reverse=True)\n",
        "\n",
        "lista"
      ]
    },
    {
      "cell_type": "markdown",
      "metadata": {},
      "source": [
        "#### len"
      ]
    },
    {
      "cell_type": "code",
      "execution_count": 50,
      "metadata": {},
      "outputs": [
        {
          "data": {
            "text/plain": [
              "5"
            ]
          },
          "execution_count": 50,
          "metadata": {},
          "output_type": "execute_result"
        }
      ],
      "source": [
        "lista = [\"java\",\"python\", \"texto\", \"PHP\", \"Matlab\"]\n",
        "len(lista)"
      ]
    },
    {
      "cell_type": "markdown",
      "metadata": {
        "id": "s6t1j7Q43ix7"
      },
      "source": [
        "## Tuplas"
      ]
    },
    {
      "cell_type": "markdown",
      "metadata": {
        "id": "yxKU_MtV38fm"
      },
      "source": [
        " as tuplas, sequências utilizadas para armanzear coleções de itens, assim como as listas que aprendemos no curso anterior. A diferença básica entre elas é que, diferentemente das listas, as tuplas são imutáveis - ou seja, não é possível modificá-las. São **listas estaticas**.\n",
        "\n",
        "Como usar uma tupla:\n",
        "- Utilizando um par de parênteses: ( )\n",
        "- Utilizando uma vírgula à direita: x,\n",
        "- Utilizando um par de parênteses com itens separados por vírgulas: ( x, y, z )\n",
        "- Utilizando: tuple() ou tuple(iterador)"
      ]
    },
    {
      "cell_type": "code",
      "execution_count": null,
      "metadata": {
        "colab": {
          "base_uri": "https://localhost:8080/"
        },
        "id": "fRXL5rXV3kF0",
        "outputId": "45ead127-0b9b-4755-9412-c2f8c0fd7882"
      },
      "outputs": [
        {
          "data": {
            "text/plain": [
              "('Jose', 'Matheus', 'Thiago')"
            ]
          },
          "execution_count": 4,
          "metadata": {},
          "output_type": "execute_result"
        }
      ],
      "source": [
        "tupla = tuple(['Jose','Matheus','Thiago'])\n",
        "tupla"
      ]
    },
    {
      "cell_type": "code",
      "execution_count": null,
      "metadata": {
        "colab": {
          "base_uri": "https://localhost:8080/",
          "height": 35
        },
        "id": "iFwB4ZyA4qEP",
        "outputId": "08bd186c-5114-463a-ddda-e2dfcbca4df9"
      },
      "outputs": [
        {
          "data": {
            "application/vnd.google.colaboratory.intrinsic+json": {
              "type": "string"
            },
            "text/plain": [
              "'Jose'"
            ]
          },
          "execution_count": 6,
          "metadata": {},
          "output_type": "execute_result"
        }
      ],
      "source": [
        "# Acessar valores dentro da tupla\n",
        "tupla[0]\n",
        "tupla[-3]"
      ]
    },
    {
      "cell_type": "code",
      "execution_count": null,
      "metadata": {
        "colab": {
          "base_uri": "https://localhost:8080/"
        },
        "id": "hoxUUcXl5DzO",
        "outputId": "743cacd2-61ac-46c9-e498-ecfddb67d751"
      },
      "outputs": [
        {
          "data": {
            "text/plain": [
              "('Jose', 'Matheus', 'Thiago', ('Soares', 'Ferreira'))"
            ]
          },
          "execution_count": 8,
          "metadata": {},
          "output_type": "execute_result"
        }
      ],
      "source": [
        "tupla = ('Jose','Matheus','Thiago',('Soares','Ferreira'))\n",
        "tupla"
      ]
    },
    {
      "cell_type": "code",
      "execution_count": null,
      "metadata": {
        "colab": {
          "base_uri": "https://localhost:8080/",
          "height": 35
        },
        "id": "6eXcq-4j54BH",
        "outputId": "6071b8e8-90c6-4e9c-d7b4-6508ff69165b"
      },
      "outputs": [
        {
          "data": {
            "application/vnd.google.colaboratory.intrinsic+json": {
              "type": "string"
            },
            "text/plain": [
              "'Soares'"
            ]
          },
          "execution_count": 9,
          "metadata": {},
          "output_type": "execute_result"
        }
      ],
      "source": [
        "tupla[3][0]"
      ]
    },
    {
      "cell_type": "markdown",
      "metadata": {
        "id": "xRbAJMgb8j97"
      },
      "source": [
        "### Iterações em tuplas"
      ]
    },
    {
      "cell_type": "markdown",
      "metadata": {
        "id": "XVurwzrt_zcE"
      },
      "source": [
        "Formas de iterar por uma tupla\n",
        "A técnica conhecida como desempacotamento de tuplas\n",
        "A utilizar a built-in function zip()"
      ]
    },
    {
      "cell_type": "code",
      "execution_count": null,
      "metadata": {
        "id": "4bmdpzB98NuF"
      },
      "outputs": [],
      "source": [
        "tupla_nomes = ('Jose','Matheus','Thiago','Soares','Potter')\n",
        "tupla_valores = (1,2,3,4,5)"
      ]
    },
    {
      "cell_type": "code",
      "execution_count": null,
      "metadata": {
        "colab": {
          "base_uri": "https://localhost:8080/"
        },
        "id": "qXlnxx0z9b6A",
        "outputId": "6735de77-0f86-4e65-d29b-6af5413c2802"
      },
      "outputs": [
        {
          "name": "stdout",
          "output_type": "stream",
          "text": [
            "Jose\n",
            "Matheus\n",
            "Thiago\n",
            "Soares\n",
            "Ferreira\n"
          ]
        }
      ],
      "source": [
        "for tupla_m in tupla_nomes:\n",
        "  print(tupla_m)\n"
      ]
    },
    {
      "cell_type": "code",
      "execution_count": null,
      "metadata": {
        "id": "elym5les_Ttk"
      },
      "outputs": [],
      "source": []
    },
    {
      "cell_type": "markdown",
      "metadata": {
        "id": "aWaNV3k-ETiM"
      },
      "source": [
        "## Dicionário"
      ]
    },
    {
      "cell_type": "markdown",
      "metadata": {
        "id": "K8A6zq-lYVUS"
      },
      "source": [
        "Vimos que as listas são coleções sequenciais ordenadas que utilizam índices para acessar seus valores. Os dicionários são coleções um pouco diferentes que representam um tipo de mapeamento, e mapeamento são coleções de associações entre dados e valores, em que o primeiro elemento é conhecido como chave e o segundo valor.\n",
        "\n",
        "1. Listas são estruturas de dados que representam um tipo básico de sequência.\n",
        "\n",
        "2. Mapeamentos são coleções sequenciais ordenadas, que utilizam índices para acessar os valores"
      ]
    },
    {
      "cell_type": "code",
      "execution_count": null,
      "metadata": {
        "colab": {
          "base_uri": "https://localhost:8080/"
        },
        "id": "YlbajO4PEVa7",
        "outputId": "f2eee1fd-982f-4342-9fcb-55b6b9cbf9ba"
      },
      "outputs": [
        {
          "data": {
            "text/plain": [
              "{'chave_1': ['valor_1', 'valor_1'], 'chave_2': ['valor_2', 'valor_2']}"
            ]
          },
          "execution_count": 12,
          "metadata": {},
          "output_type": "execute_result"
        }
      ],
      "source": [
        "# Criando um dicionário\n",
        "dicionario = {'chave_1': [\"valor_1\", \"valor_1\"],'chave_2': [\"valor_2\", \"valor_2\"]}\n",
        "dicionario"
      ]
    },
    {
      "cell_type": "code",
      "execution_count": null,
      "metadata": {
        "colab": {
          "base_uri": "https://localhost:8080/"
        },
        "id": "jpVeKg8rXtDh",
        "outputId": "5bc8fd23-b7b2-4c49-c789-ded88fcae6f2"
      },
      "outputs": [
        {
          "data": {
            "text/plain": [
              "dict"
            ]
          },
          "execution_count": 14,
          "metadata": {},
          "output_type": "execute_result"
        }
      ],
      "source": [
        "type(dicionario)"
      ]
    },
    {
      "cell_type": "markdown",
      "metadata": {
        "id": "Y7lk69KBaaWw"
      },
      "source": [
        "### Exemplo de criação de dicionário"
      ]
    },
    {
      "cell_type": "code",
      "execution_count": null,
      "metadata": {
        "colab": {
          "base_uri": "https://localhost:8080/"
        },
        "id": "1D6HYrnSYGPZ",
        "outputId": "37b66a7b-eacd-403e-e69f-86b6e1569914"
      },
      "outputs": [
        {
          "data": {
            "text/plain": [
              "{'Passat': 15000, 'Crossfox': 12000, 'DS5': 32000, 'C4': 8000, 'Jetta': 50000}"
            ]
          },
          "execution_count": 15,
          "metadata": {},
          "output_type": "execute_result"
        }
      ],
      "source": [
        " # Outra forma de criar dicionário\n",
        "nomes = ['Passat', 'Crossfox', 'DS5', 'C4', 'Jetta']\n",
        "kms = [15000, 12000, 32000, 8000, 50000]\n",
        "dict(zip(nomes, kms))"
      ]
    },
    {
      "cell_type": "markdown",
      "metadata": {
        "id": "9BsHS9W-ZE49"
      },
      "source": [
        "### Operações com dicionários"
      ]
    },
    {
      "cell_type": "markdown",
      "metadata": {
        "id": "Cls_YqPcZV3m"
      },
      "source": [
        "1. Retornar o valor correspondente à chave do dicionário"
      ]
    },
    {
      "cell_type": "code",
      "execution_count": null,
      "metadata": {
        "colab": {
          "base_uri": "https://localhost:8080/"
        },
        "id": "w8evhnb_Xkr4",
        "outputId": "200e1fd7-8216-4d2b-d997-08603f7027e6"
      },
      "outputs": [
        {
          "data": {
            "text/plain": [
              "['valor_1', 'valor_1']"
            ]
          },
          "execution_count": 17,
          "metadata": {},
          "output_type": "execute_result"
        }
      ],
      "source": [
        "dicionario[\"chave_1\"]"
      ]
    },
    {
      "cell_type": "markdown",
      "metadata": {
        "id": "FonUAq3oZj64"
      },
      "source": [
        "2. Retorna verdadeiro se a chave for mapeada no dicionário"
      ]
    },
    {
      "cell_type": "code",
      "execution_count": null,
      "metadata": {
        "colab": {
          "base_uri": "https://localhost:8080/"
        },
        "id": "7zqxgkoNZHsF",
        "outputId": "d65e319e-f2f6-487a-d25c-099283c0f74a"
      },
      "outputs": [
        {
          "data": {
            "text/plain": [
              "True"
            ]
          },
          "execution_count": 18,
          "metadata": {},
          "output_type": "execute_result"
        }
      ],
      "source": [
        "'chave_1' in dicionario"
      ]
    },
    {
      "cell_type": "markdown",
      "metadata": {
        "id": "Qwn0ZYHhZ5R9"
      },
      "source": [
        "3. Retorna o número de itens no dicionário"
      ]
    },
    {
      "cell_type": "code",
      "execution_count": null,
      "metadata": {
        "colab": {
          "base_uri": "https://localhost:8080/"
        },
        "id": "lot44a2lZwvb",
        "outputId": "2142637f-15cc-4b2d-e89a-d6e4dac6b495"
      },
      "outputs": [
        {
          "data": {
            "text/plain": [
              "2"
            ]
          },
          "execution_count": 19,
          "metadata": {},
          "output_type": "execute_result"
        }
      ],
      "source": [
        "len(dicionario)"
      ]
    },
    {
      "cell_type": "markdown",
      "metadata": {
        "id": "O7zxNGD9akJs"
      },
      "source": [
        "4. Adicionar um item ao dicionário"
      ]
    },
    {
      "cell_type": "code",
      "execution_count": null,
      "metadata": {
        "colab": {
          "base_uri": "https://localhost:8080/"
        },
        "id": "qhX28VCBaE9b",
        "outputId": "c6c1338d-be0f-49cc-ae4e-836a23277014"
      },
      "outputs": [
        {
          "data": {
            "text/plain": [
              "{'chave_1': 100,\n",
              " 'chave_2': ['valor_2', 'valor_2'],\n",
              " 'nova_chave': [100, 200, 300]}"
            ]
          },
          "execution_count": 22,
          "metadata": {},
          "output_type": "execute_result"
        }
      ],
      "source": [
        "dicionario['nova_chave'] = [100, 200, 300]\n",
        "dicionario"
      ]
    },
    {
      "cell_type": "markdown",
      "metadata": {
        "id": "x_b-dsE2bKr6"
      },
      "source": [
        "5. Remover uma chave"
      ]
    },
    {
      "cell_type": "code",
      "execution_count": null,
      "metadata": {
        "colab": {
          "base_uri": "https://localhost:8080/"
        },
        "id": "qcHSVnsLa1_W",
        "outputId": "24be05d6-d97f-4fb9-ba36-4ea7dbcd9be6"
      },
      "outputs": [
        {
          "data": {
            "text/plain": [
              "{'chave_1': 100, 'chave_2': ['valor_2', 'valor_2']}"
            ]
          },
          "execution_count": 23,
          "metadata": {},
          "output_type": "execute_result"
        }
      ],
      "source": [
        "del dicionario['nova_chave']\n",
        "dicionario"
      ]
    },
    {
      "cell_type": "markdown",
      "metadata": {
        "id": "Ssvssos2c0w5"
      },
      "source": [
        "6. Atualizar dicionário"
      ]
    },
    {
      "cell_type": "code",
      "execution_count": null,
      "metadata": {
        "colab": {
          "base_uri": "https://localhost:8080/"
        },
        "id": "4xJ0CvBjc5c6",
        "outputId": "50bc2beb-eed9-42b6-9318-8dc87f6de06b"
      },
      "outputs": [
        {
          "data": {
            "text/plain": [
              "{'chave_1': 100,\n",
              " 'chave_2': ['valor_2', 'valor_2'],\n",
              " 'chave_3': ['valor_3'],\n",
              " 'chave_4': ['valor_4']}"
            ]
          },
          "execution_count": 31,
          "metadata": {},
          "output_type": "execute_result"
        }
      ],
      "source": [
        "dicionario.update({'chave_3':['valor_3'],'chave_4':['valor_4']})\n",
        "dicionario"
      ]
    },
    {
      "cell_type": "markdown",
      "metadata": {
        "id": "CcU99aCudx8R"
      },
      "source": [
        "7. Copiar um dicionário"
      ]
    },
    {
      "cell_type": "code",
      "execution_count": null,
      "metadata": {
        "colab": {
          "base_uri": "https://localhost:8080/"
        },
        "id": "ZtvLARvCd3gO",
        "outputId": "f58b819d-2819-42fc-981e-86afae6bc497"
      },
      "outputs": [
        {
          "data": {
            "text/plain": [
              "{'chave_1': 100,\n",
              " 'chave_2': ['valor_2', 'valor_2'],\n",
              " 'chave_3': ['valor_3'],\n",
              " 'chave_4': ['valor_4']}"
            ]
          },
          "execution_count": 38,
          "metadata": {},
          "output_type": "execute_result"
        }
      ],
      "source": [
        "dadosCopy = dicionario.copy()\n",
        "dadosCopy"
      ]
    },
    {
      "cell_type": "markdown",
      "metadata": {
        "id": "1zUZRowWd_Vu"
      },
      "source": [
        "8. Eliminar uma chave do dicionário e rotornar seu valor"
      ]
    },
    {
      "cell_type": "markdown",
      "metadata": {
        "id": "xvjXmhN2eHp9"
      },
      "source": [
        "  Se a chave for encontrada no dicionário, o item é removido e seu valor é retornado. Caso contrário, o valor especificado como default é retornado. Se o valor default não for fornecido e a chave não for encontrada no dicionário um erro será gerado."
      ]
    },
    {
      "cell_type": "code",
      "execution_count": null,
      "metadata": {
        "colab": {
          "base_uri": "https://localhost:8080/"
        },
        "id": "eAmpGgS1eNht",
        "outputId": "c24a723c-3c0a-4c6e-f56c-d5aeea1f049e"
      },
      "outputs": [
        {
          "data": {
            "text/plain": [
              "100"
            ]
          },
          "execution_count": 39,
          "metadata": {},
          "output_type": "execute_result"
        }
      ],
      "source": [
        "dadosCopy.pop('chave_1',\"Chave não encontrada\")"
      ]
    },
    {
      "cell_type": "code",
      "execution_count": null,
      "metadata": {
        "colab": {
          "base_uri": "https://localhost:8080/",
          "height": 35
        },
        "id": "KcJtKBSHesT9",
        "outputId": "77b81b43-d011-46ea-89ed-6f297c703966"
      },
      "outputs": [
        {
          "data": {
            "application/vnd.google.colaboratory.intrinsic+json": {
              "type": "string"
            },
            "text/plain": [
              "'Chave não encontrada'"
            ]
          },
          "execution_count": 40,
          "metadata": {},
          "output_type": "execute_result"
        }
      ],
      "source": [
        "dadosCopy.pop('chave_1',\"Chave não encontrada\")"
      ]
    },
    {
      "cell_type": "markdown",
      "metadata": {
        "id": "-xw0YEYtewkG"
      },
      "source": [
        "9. Remover todos os itens do dicionário"
      ]
    },
    {
      "cell_type": "code",
      "execution_count": null,
      "metadata": {
        "colab": {
          "base_uri": "https://localhost:8080/"
        },
        "id": "-2afKl08e1bN",
        "outputId": "9cd5ebb4-afd8-48b2-94e2-cb5324ee3916"
      },
      "outputs": [
        {
          "data": {
            "text/plain": [
              "{}"
            ]
          },
          "execution_count": 42,
          "metadata": {},
          "output_type": "execute_result"
        }
      ],
      "source": [
        "dadosCopy.clear()\n",
        "dadosCopy"
      ]
    },
    {
      "cell_type": "markdown",
      "metadata": {
        "id": "1-ap3Rdvb-f9"
      },
      "source": [
        "#### Exemplo de operações"
      ]
    },
    {
      "cell_type": "markdown",
      "metadata": {
        "id": "ePSwvZcpcKNc"
      },
      "source": [
        "1) Testar se a chave acessorios existe no dicionário de informações do carro Crossfox (Resposta: False)\n",
        "\n",
        "2) Testar se a chave acessorios existe no dicionário de informações do carro Passat (Resposta: True)\n",
        "\n",
        "3) Obter o valor do carro Crossfox (Resposta: 25000)\n",
        "\n",
        "4) Acessar o último acessório do carro Passat (Resposta: 'ABS')"
      ]
    },
    {
      "cell_type": "code",
      "execution_count": null,
      "metadata": {
        "id": "GZEXmKJJbTV4"
      },
      "outputs": [],
      "source": [
        "dados = {\n",
        "    'Passat': {\n",
        "        'ano': 2012,\n",
        "        'km': 50000,\n",
        "        'valor': 75000,\n",
        "        'acessorios': ['Airbag', 'ABS']\n",
        "    },\n",
        "    'Crossfox': {\n",
        "        'ano': 2015,\n",
        "        'km': 35000,\n",
        "        'valor': 25000\n",
        "    }\n",
        "}"
      ]
    },
    {
      "cell_type": "code",
      "execution_count": null,
      "metadata": {
        "colab": {
          "base_uri": "https://localhost:8080/"
        },
        "id": "RVYZ3_J1cFL5",
        "outputId": "511a0c7e-3876-47c7-bafa-06a47e4a3738"
      },
      "outputs": [
        {
          "data": {
            "text/plain": [
              "False"
            ]
          },
          "execution_count": 25,
          "metadata": {},
          "output_type": "execute_result"
        }
      ],
      "source": [
        "'acessorios' in dados['Crossfox']"
      ]
    },
    {
      "cell_type": "code",
      "execution_count": null,
      "metadata": {
        "colab": {
          "base_uri": "https://localhost:8080/"
        },
        "id": "h-jkYmvocR1U",
        "outputId": "d1c7abec-3e32-441e-b3c9-22d904934bc4"
      },
      "outputs": [
        {
          "data": {
            "text/plain": [
              "True"
            ]
          },
          "execution_count": 26,
          "metadata": {},
          "output_type": "execute_result"
        }
      ],
      "source": [
        "'acessorios' in dados['Passat']"
      ]
    },
    {
      "cell_type": "code",
      "execution_count": null,
      "metadata": {
        "colab": {
          "base_uri": "https://localhost:8080/"
        },
        "id": "MM-zUYAwcTKx",
        "outputId": "273acafa-109c-4e9b-defe-8dd893e5f665"
      },
      "outputs": [
        {
          "data": {
            "text/plain": [
              "25000"
            ]
          },
          "execution_count": 27,
          "metadata": {},
          "output_type": "execute_result"
        }
      ],
      "source": [
        "dados['Crossfox']['valor']"
      ]
    },
    {
      "cell_type": "code",
      "execution_count": null,
      "metadata": {
        "colab": {
          "base_uri": "https://localhost:8080/",
          "height": 35
        },
        "id": "p8sIzMGqcb9i",
        "outputId": "33242771-d53c-46d3-8978-383b029dbc21"
      },
      "outputs": [
        {
          "data": {
            "application/vnd.google.colaboratory.intrinsic+json": {
              "type": "string"
            },
            "text/plain": [
              "'ABS'"
            ]
          },
          "execution_count": 28,
          "metadata": {},
          "output_type": "execute_result"
        }
      ],
      "source": [
        "dados['Passat']['acessorios'][-1]"
      ]
    },
    {
      "cell_type": "code",
      "execution_count": null,
      "metadata": {
        "id": "VnmHKAczfuME"
      },
      "outputs": [],
      "source": []
    },
    {
      "cell_type": "markdown",
      "metadata": {
        "id": "3q0K62TgfXmv"
      },
      "source": [
        "### Iterações em dicionário"
      ]
    },
    {
      "cell_type": "code",
      "execution_count": null,
      "metadata": {
        "colab": {
          "base_uri": "https://localhost:8080/"
        },
        "id": "8cIjn4NzfbPw",
        "outputId": "b8e86673-0cb5-4b19-b6e9-63ebdbf5bb77"
      },
      "outputs": [
        {
          "data": {
            "text/plain": [
              "{'Crossfox': 72832.16,\n",
              " 'DS5': 124549.07,\n",
              " 'Fusca': 150000,\n",
              " 'Jetta Variant': 88078.64,\n",
              " 'Passat': 106161.95}"
            ]
          },
          "execution_count": 43,
          "metadata": {},
          "output_type": "execute_result"
        }
      ],
      "source": [
        "dados = {'Crossfox': 72832.16, 'DS5': 124549.07,  'Fusca': 150000,  'Jetta Variant': 88078.64,  'Passat': 106161.95}\n",
        "dados"
      ]
    },
    {
      "cell_type": "markdown",
      "metadata": {
        "id": "RdIiRsoffxNa"
      },
      "source": [
        "Retorna uma lista contendo as chaves do dicionário"
      ]
    },
    {
      "cell_type": "code",
      "execution_count": null,
      "metadata": {
        "colab": {
          "base_uri": "https://localhost:8080/"
        },
        "id": "6mzS3CpVfn2R",
        "outputId": "dd3b98ed-330b-4cf0-f4ca-f527c40b665c"
      },
      "outputs": [
        {
          "data": {
            "text/plain": [
              "dict_keys(['Crossfox', 'DS5', 'Fusca', 'Jetta Variant', 'Passat'])"
            ]
          },
          "execution_count": 44,
          "metadata": {},
          "output_type": "execute_result"
        }
      ],
      "source": [
        "dados.keys()"
      ]
    },
    {
      "cell_type": "code",
      "execution_count": null,
      "metadata": {
        "colab": {
          "base_uri": "https://localhost:8080/"
        },
        "id": "hltRHSeogCNX",
        "outputId": "40e38017-832a-4ed9-f1f2-6b3f345c503c"
      },
      "outputs": [
        {
          "name": "stdout",
          "output_type": "stream",
          "text": [
            "72832.16\n",
            "124549.07\n",
            "150000\n",
            "88078.64\n",
            "106161.95\n"
          ]
        }
      ],
      "source": [
        "for key in dados.keys():\n",
        "  print(dados[key])"
      ]
    },
    {
      "cell_type": "markdown",
      "metadata": {
        "id": "EES_12COgQOF"
      },
      "source": [
        "Retorna os valores do dicionário"
      ]
    },
    {
      "cell_type": "code",
      "execution_count": null,
      "metadata": {
        "colab": {
          "base_uri": "https://localhost:8080/"
        },
        "id": "_0M6_mHngVnW",
        "outputId": "b9778a43-757e-458c-f7af-b662f0cf58f4"
      },
      "outputs": [
        {
          "data": {
            "text/plain": [
              "dict_values([72832.16, 124549.07, 150000, 88078.64, 106161.95])"
            ]
          },
          "execution_count": 47,
          "metadata": {},
          "output_type": "execute_result"
        }
      ],
      "source": [
        "dados.values()"
      ]
    },
    {
      "cell_type": "markdown",
      "metadata": {
        "id": "3U4Wz4G7gZp6"
      },
      "source": [
        "Retorna uma tupla contendo o par chave-valor"
      ]
    },
    {
      "cell_type": "code",
      "execution_count": null,
      "metadata": {
        "colab": {
          "base_uri": "https://localhost:8080/"
        },
        "id": "i1dwoR51gJqf",
        "outputId": "75340498-4e1c-41b9-8074-91fdea76b13f"
      },
      "outputs": [
        {
          "data": {
            "text/plain": [
              "dict_items([('Crossfox', 72832.16), ('DS5', 124549.07), ('Fusca', 150000), ('Jetta Variant', 88078.64), ('Passat', 106161.95)])"
            ]
          },
          "execution_count": 49,
          "metadata": {},
          "output_type": "execute_result"
        }
      ],
      "source": [
        "dados.items()"
      ]
    },
    {
      "cell_type": "code",
      "execution_count": null,
      "metadata": {
        "colab": {
          "base_uri": "https://localhost:8080/"
        },
        "id": "n01cjIPeglQS",
        "outputId": "04ab1576-baa7-4ee9-fcc4-f6341212b006"
      },
      "outputs": [
        {
          "name": "stdout",
          "output_type": "stream",
          "text": [
            "Crossfox 72832.16\n",
            "DS5 124549.07\n",
            "Fusca 150000\n",
            "Jetta Variant 88078.64\n",
            "Passat 106161.95\n"
          ]
        }
      ],
      "source": [
        "for key,value in dados.items():\n",
        "  print(key,value)"
      ]
    },
    {
      "cell_type": "markdown",
      "metadata": {
        "id": "RXSecIaMg-QQ"
      },
      "source": [
        "#### Exemplo de iteração"
      ]
    },
    {
      "cell_type": "markdown",
      "metadata": {
        "id": "0yyU8AyphNAw"
      },
      "source": [
        "código que imprime somente os nomes dos veículos com ano de fabricação maior ou igual a 2000."
      ]
    },
    {
      "cell_type": "code",
      "execution_count": null,
      "metadata": {
        "id": "ZQqEW6htgy9n"
      },
      "outputs": [],
      "source": [
        "dados = {\n",
        "    'Crossfox': {'valor': 72000, 'ano': 2005},\n",
        "    'DS5': {'valor': 125000, 'ano': 2015},\n",
        "    'Fusca': {'valor': 150000, 'ano': 1976},\n",
        "    'Jetta': {'valor': 88000, 'ano': 2010},\n",
        "    'Passat': {'valor': 106000, 'ano': 1998}\n",
        "}"
      ]
    },
    {
      "cell_type": "code",
      "execution_count": null,
      "metadata": {
        "colab": {
          "base_uri": "https://localhost:8080/"
        },
        "id": "4wJSIzQlh7tj",
        "outputId": "52274eb0-53a2-4f91-a4d1-9b59020de384"
      },
      "outputs": [
        {
          "name": "stdout",
          "output_type": "stream",
          "text": [
            "('Crossfox', {'valor': 72000, 'ano': 2005})\n",
            "('DS5', {'valor': 125000, 'ano': 2015})\n",
            "('Fusca', {'valor': 150000, 'ano': 1976})\n",
            "('Jetta', {'valor': 88000, 'ano': 2010})\n",
            "('Passat', {'valor': 106000, 'ano': 1998})\n"
          ]
        }
      ],
      "source": [
        "for item in dados.items():\n",
        "    print(item)"
      ]
    },
    {
      "cell_type": "code",
      "execution_count": null,
      "metadata": {
        "colab": {
          "base_uri": "https://localhost:8080/"
        },
        "id": "N5otWoJmhQMI",
        "outputId": "0224ed1c-49c5-457c-eef3-5e581c152ca6"
      },
      "outputs": [
        {
          "name": "stdout",
          "output_type": "stream",
          "text": [
            "Crossfox\n",
            "DS5\n",
            "Jetta\n"
          ]
        }
      ],
      "source": [
        "for item in dados.items():\n",
        "    if(item[1]['ano'] >= 2000):\n",
        "        print(item[0])"
      ]
    },
    {
      "cell_type": "code",
      "execution_count": null,
      "metadata": {
        "id": "9U1F2NZTh8Qo"
      },
      "outputs": [],
      "source": []
    }
  ],
  "metadata": {
    "colab": {
      "provenance": []
    },
    "kernelspec": {
      "display_name": "Python 3",
      "name": "python3"
    },
    "language_info": {
      "codemirror_mode": {
        "name": "ipython",
        "version": 3
      },
      "file_extension": ".py",
      "mimetype": "text/x-python",
      "name": "python",
      "nbconvert_exporter": "python",
      "pygments_lexer": "ipython3",
      "version": "3.11.7"
    }
  },
  "nbformat": 4,
  "nbformat_minor": 0
}
