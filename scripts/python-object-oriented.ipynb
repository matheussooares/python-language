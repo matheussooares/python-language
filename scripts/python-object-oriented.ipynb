{
 "cells": [
  {
   "cell_type": "markdown",
   "metadata": {},
   "source": [
    "## Classes"
   ]
  },
  {
   "cell_type": "markdown",
   "metadata": {},
   "source": [
    "Para definir uma classe é necessário usar a palavra reservada ````class````\n",
    "````\n",
    "    class nome_classe:\n",
    "        pass\n",
    "````"
   ]
  },
  {
   "cell_type": "markdown",
   "metadata": {},
   "source": [
    "````self```` é uma referência explicita do objeto, ou seja, é a instância do objeto. Em python, a referência é explicita. E a variável ````self```` pode assumir outros valores, contudo convenciona-se esse nome."
   ]
  },
  {
   "cell_type": "markdown",
   "metadata": {},
   "source": [
    "Métodos são criados usando o comando ````def````"
   ]
  },
  {
   "cell_type": "code",
   "execution_count": 15,
   "metadata": {},
   "outputs": [],
   "source": [
    "class nome_classe:\n",
    "    def __init__(self,atributo_1,atributo_2):\n",
    "        self.atributo_1 = atributo_1\n",
    "        self.atributo_2 = atributo_2\n",
    "    \n",
    "    def metado_1(self):\n",
    "        return self.atributo_1 + self.atributo_2\n"
   ]
  },
  {
   "cell_type": "markdown",
   "metadata": {},
   "source": [
    "Para acessar os métodos e atributos da classe basta instanciar a classe"
   ]
  },
  {
   "cell_type": "code",
   "execution_count": 16,
   "metadata": {},
   "outputs": [
    {
     "name": "stdout",
     "output_type": "stream",
     "text": [
      "Método: 3\n",
      "Atributo 1: 1\n",
      "Atributo 2: 2\n"
     ]
    }
   ],
   "source": [
    "instancia = nome_classe(1,2)\n",
    "print(f'Método: {instancia.metado_1()}\\nAtributo 1: {instancia.atributo_1}\\nAtributo 2: {instancia.atributo_2}')"
   ]
  },
  {
   "cell_type": "markdown",
   "metadata": {},
   "source": [
    "Outra maneira é instanciar o objeto e chamar o objeto."
   ]
  },
  {
   "cell_type": "code",
   "execution_count": null,
   "metadata": {},
   "outputs": [],
   "source": [
    "instancia = nome_classe(1,2)\n",
    "nome_classe.metado_1(instancia)"
   ]
  },
  {
   "cell_type": "markdown",
   "metadata": {},
   "source": [
    "Para representar a classe ao usuário é possível criar o método ````__str__````"
   ]
  },
  {
   "cell_type": "code",
   "execution_count": 7,
   "metadata": {},
   "outputs": [],
   "source": [
    "class nome_classe:\n",
    "    def __init__(self,atributo_1,atributo_2):\n",
    "        self.atributo_1 = atributo_1\n",
    "        self.atributo_2 = atributo_2\n",
    "    \n",
    "    def metado_1(self):\n",
    "        return self.atributo_1 + self.atributo_2\n",
    "\n",
    "    def __str__(self):\n",
    "        return f\"{self.__class__.__name__}: {[f'{chave}={valor}' for chave,valor in self.__dict__.items()]}\""
   ]
  },
  {
   "cell_type": "code",
   "execution_count": 9,
   "metadata": {},
   "outputs": [
    {
     "name": "stdout",
     "output_type": "stream",
     "text": [
      "Tipo da classe -  nome_classe: ['atributo_1=1', 'atributo_2=2']\n"
     ]
    }
   ],
   "source": [
    "instancia = nome_classe(1,2)\n",
    "print(f\"Tipo da classe -  {instancia}\")"
   ]
  },
  {
   "cell_type": "markdown",
   "metadata": {},
   "source": [
    "Um das principais vantagens da declaração explicita da instância do objeto é com custler no método.\n",
    "É possível definir função dentro de função e método dentro de método.\n"
   ]
  },
  {
   "cell_type": "code",
   "execution_count": 10,
   "metadata": {},
   "outputs": [],
   "source": [
    "class nome_classe:\n",
    "    def __init__(self,atributo_1,atributo_2):\n",
    "        self.atributo_1 = atributo_1\n",
    "        self.atributo_2 = atributo_2\n",
    "    \n",
    "    def metado_1(self):\n",
    "        def soma(a,b):\n",
    "            return a+b\n",
    "        return soma(self.atributo_1, self.atributo_2)\n",
    "\n",
    "    def __str__(self):\n",
    "        return f\"{self.__class__.__name__}: {[f'{chave}={valor}' for chave,valor in self.__dict__.items()]}\""
   ]
  },
  {
   "cell_type": "markdown",
   "metadata": {},
   "source": [
    "### Construtores e destrutores"
   ]
  },
  {
   "cell_type": "markdown",
   "metadata": {},
   "source": [
    "O construtor sempre é executado quando uma nova instância da classe é criada. Nesse método inicializamos o estado do nosso objeto. O método construtor é dados pelo método ```` __init__()````"
   ]
  },
  {
   "cell_type": "code",
   "execution_count": 11,
   "metadata": {},
   "outputs": [],
   "source": [
    "class nome_classe:\n",
    "    def __init__(self,atributo_1,atributo_2):\n",
    "        self.atributo_1 = atributo_1\n",
    "        self.atributo_2 = atributo_2\n",
    "    "
   ]
  },
  {
   "cell_type": "markdown",
   "metadata": {},
   "source": [
    "Já os destrutores são executados sempre que uma instância é destruída. Embora o python tenha um coletor de lixo que lida com o gerenciamento de memória, o método destrutor desaloca da memória a instância e executa alguma ação. O método é declarado com o nome ````__del__````"
   ]
  },
  {
   "cell_type": "code",
   "execution_count": 19,
   "metadata": {},
   "outputs": [
    {
     "name": "stdout",
     "output_type": "stream",
     "text": [
      "Destruindo a instância\n"
     ]
    }
   ],
   "source": [
    "class nome_classe:\n",
    "    def __init__(self,atributo_1,atributo_2):\n",
    "        self.atributo_1 = atributo_1\n",
    "        self.atributo_2 = atributo_2\n",
    "    def __del__(self):\n",
    "        print('Destruindo a instância')\n",
    "\n",
    "def funcao():\n",
    "    instancia = nome_classe(1,1)\n",
    "\n",
    "funcao()"
   ]
  }
 ],
 "metadata": {
  "kernelspec": {
   "display_name": "Python 3",
   "language": "python",
   "name": "python3"
  },
  "language_info": {
   "codemirror_mode": {
    "name": "ipython",
    "version": 3
   },
   "file_extension": ".py",
   "mimetype": "text/x-python",
   "name": "python",
   "nbconvert_exporter": "python",
   "pygments_lexer": "ipython3",
   "version": "3.11.7"
  }
 },
 "nbformat": 4,
 "nbformat_minor": 2
}
