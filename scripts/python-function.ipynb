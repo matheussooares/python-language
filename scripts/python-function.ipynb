{
 "cells": [
  {
   "cell_type": "markdown",
   "metadata": {},
   "source": [
    "# Funções"
   ]
  },
  {
   "cell_type": "markdown",
   "metadata": {},
   "source": [
    "Funções em Python são blocos de código reutilizáveis que permitem estruturar programas de forma modular e organizada. Elas são definidas usando a palavra-chave ````def```` seguida pelo nome da função e parênteses, que podem incluir parâmetros.\n",
    "\n",
    "As funções são essenciais para a criação de programas mais legíveis, manuteníveis e escaláveis, pois permitem a divisão de tarefas complexas em partes menores e mais gerenciáveis. Além disso, funções facilitam a reutilização de código, evitando a repetição desnecessária e promovendo a eficiência. Python oferece diversas funcionalidades integradas para definir e trabalhar com funções, incluindo parâmetros padrão, funções anônimas (lambdas) e a capacidade de retornar múltiplos valores."
   ]
  },
  {
   "cell_type": "markdown",
   "metadata": {},
   "source": [
    "## Decoradores"
   ]
  },
  {
   "cell_type": "markdown",
   "metadata": {},
   "source": [
    "Funções em Python são objetos de primeira classe. Isso significa que as funções podem ser passadas e usadas como argumentos. Portanto, funções são como qualquer outro objeto em Python.\n"
   ]
  },
  {
   "cell_type": "code",
   "execution_count": 37,
   "metadata": {},
   "outputs": [
    {
     "name": "stdout",
     "output_type": "stream",
     "text": [
      "Oi matheus!\n",
      "Matheus, Vamos aprender python!\n"
     ]
    }
   ],
   "source": [
    "def a(nome):\n",
    "    return f\"Oi {nome}!\"\n",
    "\n",
    "def b(nome):\n",
    "    return f\"{nome}, Vamos aprender python!\"\n",
    "\n",
    "def c(funcao, nome):\n",
    "    return funcao(nome)\n",
    "\n",
    "print(c(a,\"matheus\"))\n",
    "\n",
    "print(c(b,\"Matheus\"))\n"
   ]
  },
  {
   "cell_type": "markdown",
   "metadata": {},
   "source": [
    "### Decoradores simples"
   ]
  },
  {
   "cell_type": "markdown",
   "metadata": {},
   "source": [
    "Os decoradores servem para colocar uma personalização de comportamento em outra funcionalidade."
   ]
  },
  {
   "cell_type": "code",
   "execution_count": 38,
   "metadata": {},
   "outputs": [
    {
     "name": "stdout",
     "output_type": "stream",
     "text": [
      "Antes\n",
      "mensagem\n",
      "Depois\n"
     ]
    }
   ],
   "source": [
    "def decorador(funcoes):\n",
    "    def envelope():\n",
    "        print(\"Antes\")\n",
    "        funcoes()\n",
    "        print(\"Depois\")\n",
    "    \n",
    "    return envelope\n",
    "\n",
    "def funcao(msg=\"mensagem\"):\n",
    "    print(msg)\n",
    "\n",
    "ola_mundo = decorador(funcao)\n",
    "ola_mundo()"
   ]
  },
  {
   "cell_type": "markdown",
   "metadata": {},
   "source": [
    "O Python permite que você use decoradores de maneira mais simples com o símbolo @.\n"
   ]
  },
  {
   "cell_type": "code",
   "execution_count": 39,
   "metadata": {},
   "outputs": [
    {
     "name": "stdout",
     "output_type": "stream",
     "text": [
      "Antes\n",
      "mensagem\n",
      "Depois\n"
     ]
    }
   ],
   "source": [
    "def decorador(funcao):\n",
    "    def envelope():\n",
    "        print(\"Antes\")\n",
    "        funcao()\n",
    "        print(\"Depois\")\n",
    "    \n",
    "    return envelope\n",
    "\n",
    "@decorador\n",
    "def funcao(msg=\"mensagem\"):\n",
    "    print(msg)\n",
    "\n",
    "\n",
    "funcao()"
   ]
  },
  {
   "cell_type": "markdown",
   "metadata": {},
   "source": [
    "### Decoradores complexos"
   ]
  },
  {
   "cell_type": "markdown",
   "metadata": {},
   "source": [
    "Podemos usar ````*args```` e ````**kwargs```` na função interna, com isso ela aceitará um número arbitrário de argumentos posicionais e de palavras-chave."
   ]
  },
  {
   "cell_type": "code",
   "execution_count": 40,
   "metadata": {},
   "outputs": [
    {
     "name": "stdout",
     "output_type": "stream",
     "text": [
      "Antes\n",
      "João\n",
      "Depois\n"
     ]
    }
   ],
   "source": [
    "def decorador(funcao):\n",
    "    def envelope(*args,**kw):\n",
    "        print(\"Antes\")\n",
    "        funcao(*args,**kw)\n",
    "        print(\"Depois\")\n",
    "    \n",
    "    return envelope\n",
    "\n",
    "@decorador\n",
    "def funcao(msg=\"mensagem\"):\n",
    "    print(msg)\n",
    "\n",
    "\n",
    "funcao(\"João\")"
   ]
  },
  {
   "cell_type": "markdown",
   "metadata": {},
   "source": [
    "### Retornando valores de funções decoradas\n"
   ]
  },
  {
   "cell_type": "markdown",
   "metadata": {},
   "source": [
    "O decorador pode decidir se retorna o valor da função decorada ou não. Para que o valor seja retornado a função de envelope deve retornar o valor da função decorada.\n"
   ]
  },
  {
   "cell_type": "code",
   "execution_count": 41,
   "metadata": {},
   "outputs": [
    {
     "name": "stdout",
     "output_type": "stream",
     "text": [
      "Antes\n",
      "João\n",
      "Depois\n",
      "JOÃO\n"
     ]
    }
   ],
   "source": [
    "def decorador(funcao):\n",
    "    def envelope(*args,**kw):\n",
    "        print(\"Antes\")\n",
    "        resul = funcao(*args,**kw)\n",
    "        print(\"Depois\")\n",
    "        return resul\n",
    "    \n",
    "    return envelope\n",
    "\n",
    "@decorador\n",
    "def funcao(msg=\"mensagem\"):\n",
    "    print(msg)\n",
    "    return msg.upper()\n",
    "\n",
    "\n",
    "retorno = funcao(\"João\")\n",
    "print(retorno)"
   ]
  },
  {
   "cell_type": "markdown",
   "metadata": {},
   "source": [
    "## Instrospecção"
   ]
  },
  {
   "cell_type": "markdown",
   "metadata": {},
   "source": [
    "Introspecção é a capacidade de um objeto saber sobre seus próprios atributos em tempo de execução.\n"
   ]
  },
  {
   "cell_type": "code",
   "execution_count": 42,
   "metadata": {},
   "outputs": [
    {
     "name": "stdout",
     "output_type": "stream",
     "text": [
      "Antes\n",
      "João\n",
      "Depois\n",
      "<function decorador.<locals>.envelope at 0x000001E55FB6D580>\n"
     ]
    }
   ],
   "source": [
    "def decorador(funcao):\n",
    "    def envelope(*args,**kw):\n",
    "        print(\"Antes\")\n",
    "        funcao(*args,**kw)\n",
    "        print(\"Depois\")\n",
    "    \n",
    "    return envelope\n",
    "\n",
    "@decorador\n",
    "def funcao(msg=\"mensagem\"):\n",
    "    print(msg)\n",
    "\n",
    "\n",
    "funcao(\"João\")\n",
    "print(funcao)"
   ]
  },
  {
   "cell_type": "markdown",
   "metadata": {},
   "source": [
    "Nesse exemplo, o nome da função se perde no decorador. Para resolver esse problema é usado a biblioteca ````functools````"
   ]
  },
  {
   "cell_type": "code",
   "execution_count": 43,
   "metadata": {},
   "outputs": [
    {
     "name": "stdout",
     "output_type": "stream",
     "text": [
      "Antes\n",
      "João\n",
      "Depois\n",
      "<function funcao at 0x000001E55FB36340>\n"
     ]
    }
   ],
   "source": [
    "import functools\n",
    "\n",
    "def decorador(funcao):\n",
    "    @functools.wraps(funcao)\n",
    "    def envelope(*args,**kw):\n",
    "        print(\"Antes\")\n",
    "        funcao(*args,**kw)\n",
    "        print(\"Depois\")\n",
    "    \n",
    "    return envelope\n",
    "\n",
    "@decorador\n",
    "def funcao(msg=\"mensagem\"):\n",
    "    print(msg)\n",
    "\n",
    "\n",
    "funcao(\"João\")\n",
    "print(funcao)"
   ]
  },
  {
   "cell_type": "markdown",
   "metadata": {},
   "source": [
    "## Inner functions"
   ]
  },
  {
   "cell_type": "markdown",
   "metadata": {},
   "source": [
    "É possível definir funções dentro de outras funções. Tais  funções são chamadas de funções internas.\n"
   ]
  },
  {
   "cell_type": "code",
   "execution_count": 44,
   "metadata": {},
   "outputs": [
    {
     "name": "stdout",
     "output_type": "stream",
     "text": [
      "Executando a main\n",
      "Escreve função 1\n",
      "Escreve função 2\n"
     ]
    }
   ],
   "source": [
    "def main():\n",
    "    print(\"Executando a main\")\n",
    "\n",
    "    def funcao_1():\n",
    "        print(\"Escreve função 1\")\n",
    "    \n",
    "    def funcao_2():\n",
    "        print(\"Escreve função 2\")\n",
    "    \n",
    "    funcao_1()\n",
    "    funcao_2()\n",
    "\n",
    "main()"
   ]
  },
  {
   "cell_type": "markdown",
   "metadata": {},
   "source": [
    "Python também permite que você use funções como valores de retorno."
   ]
  },
  {
   "cell_type": "code",
   "execution_count": 45,
   "metadata": {},
   "outputs": [
    {
     "name": "stdout",
     "output_type": "stream",
     "text": [
      "<function calculadora.<locals>.soma at 0x000001E55FA5FA60>\n",
      "<function calculadora.<locals>.subtracao at 0x000001E55FB34D60>\n",
      "<function calculadora.<locals>.divisao at 0x000001E55FB6D580>\n",
      "<function calculadora.<locals>.multiplicacao at 0x000001E55FB6D4E0>\n",
      "Soma: 4\n"
     ]
    }
   ],
   "source": [
    "def calculadora(operacao):\n",
    "    def soma(a,b):\n",
    "        return a + b\n",
    "    def subtracao(a,b):\n",
    "        return a - b\n",
    "    def divisao(a,b):\n",
    "        return a / b\n",
    "    def multiplicacao(a,b):\n",
    "        return a * b\n",
    "    \n",
    "    match operacao:\n",
    "        case \"+\":\n",
    "            return soma\n",
    "        case \"-\":\n",
    "            return subtracao\n",
    "        case \"/\":\n",
    "            return divisao\n",
    "        case \"*\":\n",
    "            return multiplicacao\n",
    "\n",
    "print(calculadora(\"+\"))  \n",
    "print(calculadora(\"-\")) \n",
    "print(calculadora(\"/\")) \n",
    "print(calculadora(\"*\"))\n",
    "print(f\"Soma: {calculadora('+')(2,2)}\")       "
   ]
  }
 ],
 "metadata": {
  "kernelspec": {
   "display_name": "Python 3",
   "language": "python",
   "name": "python3"
  },
  "language_info": {
   "codemirror_mode": {
    "name": "ipython",
    "version": 3
   },
   "file_extension": ".py",
   "mimetype": "text/x-python",
   "name": "python",
   "nbconvert_exporter": "python",
   "pygments_lexer": "ipython3",
   "version": "3.11.7"
  }
 },
 "nbformat": 4,
 "nbformat_minor": 2
}
